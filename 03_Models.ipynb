{
 "cells": [
  {
   "cell_type": "markdown",
   "id": "ade2ac9d",
   "metadata": {},
   "source": [
    "## Models Management Examples"
   ]
  },
  {
   "cell_type": "markdown",
   "id": "6618ff2c",
   "metadata": {},
   "source": [
    "#### You can use the API to create, version and unit test Machine Learning models exposed via REST API"
   ]
  },
  {
   "cell_type": "markdown",
   "id": "a2c2348b",
   "metadata": {},
   "source": [
    "#### This functionality simplifies the model lifecycle and increases reproducibility and auditability of production ML pipelines"
   ]
  },
  {
   "cell_type": "code",
   "execution_count": 1,
   "id": "fd24138c",
   "metadata": {},
   "outputs": [],
   "source": [
    "import cmlapi\n",
    "import os\n",
    "\n",
    "config = cmlapi.Configuration()\n",
    "config.host = os.environ[\"PROJECT_HOST\"]\n",
    "client = cmlapi.ApiClient(config)\n",
    "client.set_default_header(\"authorization\", \"Bearer \"+os.environ[\"API_KEY\"])\n",
    "api_instance = cmlapi.CMLServiceApi(client)"
   ]
  },
  {
   "cell_type": "code",
   "execution_count": null,
   "id": "7087e2d6",
   "metadata": {},
   "outputs": [],
   "source": []
  }
 ],
 "metadata": {
  "kernelspec": {
   "display_name": "Python 3",
   "language": "python",
   "name": "python3"
  },
  "language_info": {
   "codemirror_mode": {
    "name": "ipython",
    "version": 3
   },
   "file_extension": ".py",
   "mimetype": "text/x-python",
   "name": "python",
   "nbconvert_exporter": "python",
   "pygments_lexer": "ipython3",
   "version": "3.6.13"
  }
 },
 "nbformat": 4,
 "nbformat_minor": 5
}
