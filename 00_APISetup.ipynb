{
 "cells": [
  {
   "cell_type": "markdown",
   "id": "victorian-christian",
   "metadata": {},
   "source": [
    "## CML API V2 Setup Example"
   ]
  },
  {
   "cell_type": "markdown",
   "id": "elegant-concept",
   "metadata": {},
   "source": [
    "#### In CML you can save environment variable at the project or workspace level. Here we saved \"PROJECT HOST\" and \"API_KEY\" so we can reuse them programmatically. "
   ]
  },
  {
   "cell_type": "markdown",
   "id": "8b5af6d4",
   "metadata": {},
   "source": [
    "#### Please make sure to select a legacy engine when you launch a session. Some of the API's requests to create jobs do not yet work with the ML Runtime feature. "
   ]
  },
  {
   "cell_type": "markdown",
   "id": "05eeb3db",
   "metadata": {},
   "source": [
    "#### You can select Legacy engines by going to \"Project Settings\" -> \"Runtime/Engine\" -> \"Legacy Engine\". The default docker image will be fine."
   ]
  },
  {
   "cell_type": "code",
   "execution_count": 1,
   "id": "exceptional-institution",
   "metadata": {},
   "outputs": [],
   "source": [
    "import os"
   ]
  },
  {
   "cell_type": "code",
   "execution_count": 11,
   "id": "driven-convertible",
   "metadata": {},
   "outputs": [
    {
     "data": {
      "text/plain": [
       "'https://ml-ea5d38de-c31.gd01-dem.ylcu-atmi.cloudera.site'"
      ]
     },
     "execution_count": 11,
     "metadata": {},
     "output_type": "execute_result"
    }
   ],
   "source": [
    "## This is the CML Workspace domain\n",
    "os.environ[\"PROJECT_HOST\"]"
   ]
  },
  {
   "cell_type": "markdown",
   "id": "consecutive-covering",
   "metadata": {},
   "source": [
    "#### We pip install the API as shown here: https://docs.cloudera.com/machine-learning/cloud/api/topics/ml-api-v2.html"
   ]
  },
  {
   "cell_type": "code",
   "execution_count": 12,
   "id": "romance-shanghai",
   "metadata": {},
   "outputs": [
    {
     "name": "stdout",
     "output_type": "stream",
     "text": [
      "Collecting https://ml-ea5d38de-c31.gd01-dem.ylcu-atmi.cloudera.site/api/v2/python.tar.gz\n",
      "  Downloading https://ml-ea5d38de-c31.gd01-dem.ylcu-atmi.cloudera.site/api/v2/python.tar.gz (52 kB)\n",
      "\u001b[K     |████████████████████████████████| 52 kB 23.8 MB/s eta 0:00:01\n",
      "\u001b[?25hRequirement already satisfied: urllib3>=1.15 in /usr/local/lib/python3.6/site-packages (from cmlapi==0.1.0) (1.26.3)\n",
      "Requirement already satisfied: six>=1.10 in /usr/local/lib/python3.6/site-packages (from cmlapi==0.1.0) (1.15.0)\n",
      "Requirement already satisfied: certifi in /usr/local/lib/python3.6/site-packages (from cmlapi==0.1.0) (2020.11.8)\n",
      "Requirement already satisfied: python-dateutil in /usr/local/lib/python3.6/site-packages (from cmlapi==0.1.0) (2.8.1)\n",
      "\u001b[33mWARNING: You are using pip version 21.0.1; however, version 21.1.3 is available.\n",
      "You should consider upgrading via the '/usr/local/bin/python3.6 -m pip install --upgrade pip' command.\u001b[0m\n"
     ]
    }
   ],
   "source": [
    "!pip3 install https://ml-ea5d38de-c31.gd01-dem.ylcu-atmi.cloudera.site/api/v2/python.tar.gz"
   ]
  },
  {
   "cell_type": "code",
   "execution_count": 13,
   "id": "enclosed-scratch",
   "metadata": {},
   "outputs": [],
   "source": [
    "import cmlapi\n",
    "config = cmlapi.Configuration()"
   ]
  },
  {
   "cell_type": "code",
   "execution_count": 15,
   "id": "recovered-faith",
   "metadata": {},
   "outputs": [],
   "source": [
    "config.host = os.environ[\"PROJECT_HOST\"]"
   ]
  },
  {
   "cell_type": "code",
   "execution_count": 16,
   "id": "interested-grocery",
   "metadata": {},
   "outputs": [],
   "source": [
    "client = cmlapi.ApiClient(config)\n",
    "client.set_default_header(\"authorization\", \"Bearer \"+os.environ[\"API_KEY\"])\n",
    "api_instance = cmlapi.CMLServiceApi(client)"
   ]
  },
  {
   "cell_type": "code",
   "execution_count": 17,
   "id": "processed-jerusalem",
   "metadata": {},
   "outputs": [],
   "source": [
    "projects = api_instance.list_projects()"
   ]
  },
  {
   "cell_type": "markdown",
   "id": "close-fleece",
   "metadata": {},
   "source": [
    "#### Now that we have an instance of the api we can query the projects object or use the api_intance object to perform more actions"
   ]
  },
  {
   "cell_type": "code",
   "execution_count": 18,
   "id": "published-spyware",
   "metadata": {},
   "outputs": [
    {
     "data": {
      "text/plain": [
       "{'next_page_token': '',\n",
       " 'projects': [{'created_at': datetime.datetime(2021, 7, 10, 0, 12, 13, 355200, tzinfo=tzlocal()),\n",
       "               'creation_status': 'success',\n",
       "               'creator': {'email': 'pauldefusco@cloudera.com',\n",
       "                           'id': '1',\n",
       "                           'name': 'Paul de Fusco',\n",
       "                           'username': 'pauldefusco'},\n",
       "               'default_project_engine_type': 'ml_runtime',\n",
       "               'description': '',\n",
       "               'full_name': 'test',\n",
       "               'id': 'llgb-lqu2-7ivf-is2r',\n",
       "               'name': 'test',\n",
       "               'owner': {'email': 'pauldefusco@cloudera.com',\n",
       "                         'id': '1',\n",
       "                         'name': 'Paul de Fusco',\n",
       "                         'username': 'pauldefusco'},\n",
       "               'project_visibility': 'public',\n",
       "               'updated_at': datetime.datetime(2021, 7, 10, 0, 33, 43, 517504, tzinfo=tzlocal()),\n",
       "               'user_updated_at': ''},\n",
       "              {'created_at': datetime.datetime(2021, 7, 11, 17, 15, 21, 863715, tzinfo=tzlocal()),\n",
       "               'creation_status': 'success',\n",
       "               'creator': {'email': 'pauldefusco@cloudera.com',\n",
       "                           'id': '1',\n",
       "                           'name': 'Paul de Fusco',\n",
       "                           'username': 'pauldefusco'},\n",
       "               'default_project_engine_type': 'ml_runtime',\n",
       "               'description': '',\n",
       "               'full_name': 'api-v2-demo',\n",
       "               'id': 'qqbn-sekc-qwme-4kyg',\n",
       "               'name': 'API V2 Demo',\n",
       "               'owner': {'email': 'pauldefusco@cloudera.com',\n",
       "                         'id': '1',\n",
       "                         'name': 'Paul de Fusco',\n",
       "                         'username': 'pauldefusco'},\n",
       "               'project_visibility': 'private',\n",
       "               'updated_at': datetime.datetime(2021, 7, 11, 17, 20, 1, 248690, tzinfo=tzlocal()),\n",
       "               'user_updated_at': ''}]}"
      ]
     },
     "execution_count": 18,
     "metadata": {},
     "output_type": "execute_result"
    }
   ],
   "source": [
    "projects"
   ]
  },
  {
   "cell_type": "markdown",
   "id": "living-veteran",
   "metadata": {},
   "source": [
    "#### The full list of methods is also available at [PROJECT_HOST]/api/v2/swagger.html so in our case [https://ml-ea5d38de-c31.gd01-dem.ylcu-atmi.cloudera.site/api/v2/swagger.html](https://ml-ea5d38de-c31.gd01-dem.ylcu-atmi.cloudera.site/api/v2/swagger.html)"
   ]
  },
  {
   "cell_type": "code",
   "execution_count": null,
   "id": "involved-oxford",
   "metadata": {},
   "outputs": [],
   "source": []
  }
 ],
 "metadata": {
  "kernelspec": {
   "display_name": "Python 3",
   "language": "python",
   "name": "python3"
  },
  "language_info": {
   "codemirror_mode": {
    "name": "ipython",
    "version": 3
   },
   "file_extension": ".py",
   "mimetype": "text/x-python",
   "name": "python",
   "nbconvert_exporter": "python",
   "pygments_lexer": "ipython3",
   "version": "3.6.13"
  }
 },
 "nbformat": 4,
 "nbformat_minor": 5
}
