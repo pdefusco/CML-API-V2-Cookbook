{
 "cells": [
  {
   "cell_type": "markdown",
   "id": "romance-medicaid",
   "metadata": {},
   "source": [
    "## Jobs Management Examples"
   ]
  },
  {
   "cell_type": "markdown",
   "id": "antique-spank",
   "metadata": {},
   "source": [
    "#### You can use the API to create, start, stop, schedule jobs, and more"
   ]
  },
  {
   "cell_type": "markdown",
   "id": "067070a5",
   "metadata": {},
   "source": [
    "#### This functionality empowers CML users who have ETL and database scoring use cases, or simply want to automate projects"
   ]
  },
  {
   "cell_type": "markdown",
   "id": "2d38a8bc",
   "metadata": {},
   "source": [
    "#### Please make sure to select a legacy engine when you launch a session as some of the API's methods do not work with ML Runtimes yet. "
   ]
  },
  {
   "cell_type": "markdown",
   "id": "21c60f4d",
   "metadata": {},
   "source": [
    "#### You can select Legacy engines by going to \"Project Settings\" -> \"Runtime/Engine\" -> \"Legacy Engine\". The default docker image will be fine."
   ]
  },
  {
   "cell_type": "code",
   "execution_count": 2,
   "id": "upset-binding",
   "metadata": {},
   "outputs": [],
   "source": [
    "import cmlapi\n",
    "import os\n",
    "\n",
    "config = cmlapi.Configuration()\n",
    "config.host = os.environ[\"PROJECT_HOST\"]\n",
    "client = cmlapi.ApiClient(config)\n",
    "client.set_default_header(\"authorization\", \"Bearer \"+os.environ[\"API_KEY\"])\n",
    "api_instance = cmlapi.CMLServiceApi(client)"
   ]
  },
  {
   "cell_type": "markdown",
   "id": "f25c2587",
   "metadata": {},
   "source": [
    "#### You can create a new job as below. The schedule value follows the cron format. For example, to execute the job every Monday at 1 PM UTC, the schedule would be \"0 13 * * 1\" without quotes. "
   ]
  },
  {
   "cell_type": "markdown",
   "id": "ca27057a",
   "metadata": {},
   "source": [
    "#### Notice the project id is repeated both inside the dictionary and at the end"
   ]
  },
  {
   "cell_type": "code",
   "execution_count": 3,
   "id": "preliminary-southwest",
   "metadata": {},
   "outputs": [
    {
     "data": {
      "text/plain": [
       "{'arguments': '',\n",
       " 'cpu': 2.0,\n",
       " 'created_at': datetime.datetime(2021, 7, 12, 20, 15, 1, 603239, tzinfo=tzlocal()),\n",
       " 'creator': {'email': 'pauldefusco@cloudera.com',\n",
       "             'id': '1',\n",
       "             'name': 'Paul de Fusco',\n",
       "             'username': 'pauldefusco'},\n",
       " 'engine_image_id': '15',\n",
       " 'english_schedule': '0 13 * * 1',\n",
       " 'environment': '',\n",
       " 'id': 'ennq-7dum-18ab-a5ow',\n",
       " 'kernel': 'python3',\n",
       " 'memory': 4.0,\n",
       " 'name': 'my_scheduled_job',\n",
       " 'nvidia_gpu': '0',\n",
       " 'parent_id': '',\n",
       " 'paused': False,\n",
       " 'schedule': '0 13 * * 1',\n",
       " 'script': 'data_ingest_job.py',\n",
       " 'share_token': '',\n",
       " 'timeout': '0',\n",
       " 'timeout_kill': False,\n",
       " 'timezone': 'America/Los_Angeles',\n",
       " 'type': 'cron',\n",
       " 'updated_at': datetime.datetime(2021, 7, 12, 20, 15, 1, 603284, tzinfo=tzlocal())}"
      ]
     },
     "execution_count": 3,
     "metadata": {},
     "output_type": "execute_result"
    }
   ],
   "source": [
    "api_instance.create_job({\"project_id\":\"qqbn-sekc-qwme-4kyg\",\n",
    "                          \"name\":\"my_scheduled_job\",\n",
    "                          \"schedule\":\"0 13 * * 1\",\n",
    "                          \"memory\":4,\n",
    "                          \"cpu\":2,\n",
    "                          \"script\":\"data_ingest_job.py\", \n",
    "                          \"kernel\":\"python3\"}, \"qqbn-sekc-qwme-4kyg\")"
   ]
  },
  {
   "cell_type": "markdown",
   "id": "ca454f70",
   "metadata": {},
   "source": [
    "#### Alternatively, you can create a job and then issue its execution with a second command."
   ]
  },
  {
   "cell_type": "code",
   "execution_count": 4,
   "id": "9becde03",
   "metadata": {},
   "outputs": [
    {
     "data": {
      "text/plain": [
       "{'arguments': '',\n",
       " 'cpu': 2.0,\n",
       " 'created_at': datetime.datetime(2021, 7, 12, 20, 15, 1, 782930, tzinfo=tzlocal()),\n",
       " 'creator': {'email': 'pauldefusco@cloudera.com',\n",
       "             'id': '1',\n",
       "             'name': 'Paul de Fusco',\n",
       "             'username': 'pauldefusco'},\n",
       " 'engine_image_id': '15',\n",
       " 'english_schedule': '',\n",
       " 'environment': '',\n",
       " 'id': '562m-sk6u-s1av-9t89',\n",
       " 'kernel': 'python3',\n",
       " 'memory': 4.0,\n",
       " 'name': 'my_unscheduled_job',\n",
       " 'nvidia_gpu': '0',\n",
       " 'parent_id': '',\n",
       " 'paused': False,\n",
       " 'schedule': '',\n",
       " 'script': 'data_ingest_job.py',\n",
       " 'share_token': '',\n",
       " 'timeout': '0',\n",
       " 'timeout_kill': False,\n",
       " 'timezone': 'America/Los_Angeles',\n",
       " 'type': 'manual',\n",
       " 'updated_at': datetime.datetime(2021, 7, 12, 20, 15, 1, 782966, tzinfo=tzlocal())}"
      ]
     },
     "execution_count": 4,
     "metadata": {},
     "output_type": "execute_result"
    }
   ],
   "source": [
    "api_instance.create_job({\"project_id\":\"qqbn-sekc-qwme-4kyg\",\n",
    "                          \"name\":\"my_unscheduled_job\",\n",
    "                          #\"schedule\":\"0 13 * * 1\",\n",
    "                          \"memory\":4,\n",
    "                          \"cpu\":2,\n",
    "                          \"script\":\"data_ingest_job.py\", \n",
    "                          \"kernel\":\"python3\"}, \"qqbn-sekc-qwme-4kyg\")"
   ]
  },
  {
   "cell_type": "code",
   "execution_count": 9,
   "id": "7ee80ac9",
   "metadata": {},
   "outputs": [],
   "source": [
    "project_identifier=\"qqbn-sekc-qwme-4kyg\"\n",
    "name=\"my_unscheduled_job\""
   ]
  },
  {
   "cell_type": "markdown",
   "id": "8bd69ef9",
   "metadata": {},
   "source": [
    "#### Notice the project id trailing the dictionary is also followed by the job id"
   ]
  },
  {
   "cell_type": "code",
   "execution_count": 7,
   "id": "38941480",
   "metadata": {},
   "outputs": [
    {
     "data": {
      "text/plain": [
       "{'arguments': '',\n",
       " 'cpu': 2.0,\n",
       " 'created_at': datetime.datetime(2021, 7, 12, 20, 16, 11, 695305, tzinfo=tzlocal()),\n",
       " 'environment': 'null',\n",
       " 'finished_at': datetime.datetime(1, 1, 1, 0, 0, tzinfo=tzlocal()),\n",
       " 'id': '0645larphwti9o39',\n",
       " 'job_id': '562m-sk6u-s1av-9t89',\n",
       " 'kernel': 'python3',\n",
       " 'memory': 4.0,\n",
       " 'nvidia_gpu': 0,\n",
       " 'project_id': 'qqbn-sekc-qwme-4kyg',\n",
       " 'running_at': datetime.datetime(1, 1, 1, 0, 0, tzinfo=tzlocal()),\n",
       " 'scheduling_at': datetime.datetime(2021, 7, 12, 20, 16, 11, 694997, tzinfo=tzlocal()),\n",
       " 'starting_at': datetime.datetime(1, 1, 1, 0, 0, tzinfo=tzlocal()),\n",
       " 'status': 'ENGINE_SCHEDULING'}"
      ]
     },
     "execution_count": 7,
     "metadata": {},
     "output_type": "execute_result"
    }
   ],
   "source": [
    "api_instance.create_job_run({\"project_id\":\"qqbn-sekc-qwme-4kyg\",\n",
    "                              \"name\":\"my_unscheduled_job\",\n",
    "                              \"script\":\"data_ingest_job.py\",\n",
    "                              \"kernel\":\"python3\"}, \"qqbn-sekc-qwme-4kyg\", \"562m-sk6u-s1av-9t89\")"
   ]
  },
  {
   "cell_type": "markdown",
   "id": "60d8051e",
   "metadata": {},
   "source": [
    "#### Jobs can be created to start bassed on whether other jobs succeed "
   ]
  },
  {
   "cell_type": "markdown",
   "id": "ad737722",
   "metadata": {},
   "source": [
    "#### To do so, you can create a job and declare its parent. The child will launch as soon as the parent completes."
   ]
  },
  {
   "cell_type": "code",
   "execution_count": 8,
   "id": "18e770da",
   "metadata": {},
   "outputs": [
    {
     "data": {
      "text/plain": [
       "{'arguments': '',\n",
       " 'cpu': 2.0,\n",
       " 'created_at': datetime.datetime(2021, 7, 12, 20, 19, 57, 659860, tzinfo=tzlocal()),\n",
       " 'creator': {'email': 'pauldefusco@cloudera.com',\n",
       "             'id': '1',\n",
       "             'name': 'Paul de Fusco',\n",
       "             'username': 'pauldefusco'},\n",
       " 'engine_image_id': '15',\n",
       " 'english_schedule': '',\n",
       " 'environment': '',\n",
       " 'id': 'xxu8-5xhs-vgin-jn0o',\n",
       " 'kernel': 'python3',\n",
       " 'memory': 4.0,\n",
       " 'name': 'parent_job',\n",
       " 'nvidia_gpu': '0',\n",
       " 'parent_id': '',\n",
       " 'paused': False,\n",
       " 'schedule': '',\n",
       " 'script': 'data_ingest_job.py',\n",
       " 'share_token': '',\n",
       " 'timeout': '0',\n",
       " 'timeout_kill': False,\n",
       " 'timezone': 'America/Los_Angeles',\n",
       " 'type': 'manual',\n",
       " 'updated_at': datetime.datetime(2021, 7, 12, 20, 19, 57, 659915, tzinfo=tzlocal())}"
      ]
     },
     "execution_count": 8,
     "metadata": {},
     "output_type": "execute_result"
    }
   ],
   "source": [
    "api_instance.create_job({\"project_id\":\"qqbn-sekc-qwme-4kyg\",\n",
    "                          \"name\":\"parent_job\",\n",
    "                          #\"schedule\":\"0 13 * * 1\",\n",
    "                          \"memory\":4,\n",
    "                          \"cpu\":2,\n",
    "                          \"script\":\"data_ingest_job.py\", \n",
    "                          \"kernel\":\"python3\"}, \"qqbn-sekc-qwme-4kyg\")"
   ]
  },
  {
   "cell_type": "code",
   "execution_count": 12,
   "id": "c7f0ead9",
   "metadata": {},
   "outputs": [
    {
     "data": {
      "text/plain": [
       "{'arguments': '',\n",
       " 'cpu': 2.0,\n",
       " 'created_at': datetime.datetime(2021, 7, 12, 20, 24, 33, 169006, tzinfo=tzlocal()),\n",
       " 'creator': {'email': 'pauldefusco@cloudera.com',\n",
       "             'id': '1',\n",
       "             'name': 'Paul de Fusco',\n",
       "             'username': 'pauldefusco'},\n",
       " 'engine_image_id': '15',\n",
       " 'english_schedule': '',\n",
       " 'environment': '',\n",
       " 'id': 'n7tl-5ihi-pvku-6svh',\n",
       " 'kernel': 'python3',\n",
       " 'memory': 4.0,\n",
       " 'name': 'child_job',\n",
       " 'nvidia_gpu': '0',\n",
       " 'parent_id': 'xxu8-5xhs-vgin-jn0o',\n",
       " 'paused': False,\n",
       " 'schedule': '',\n",
       " 'script': 'data_ingest_job.py',\n",
       " 'share_token': '',\n",
       " 'timeout': '0',\n",
       " 'timeout_kill': False,\n",
       " 'timezone': 'America/Los_Angeles',\n",
       " 'type': 'dependent',\n",
       " 'updated_at': datetime.datetime(2021, 7, 12, 20, 24, 33, 169029, tzinfo=tzlocal())}"
      ]
     },
     "execution_count": 12,
     "metadata": {},
     "output_type": "execute_result"
    }
   ],
   "source": [
    "api_instance.create_job({\"project_id\":\"qqbn-sekc-qwme-4kyg\",\n",
    "                          \"name\":\"child_job\",\n",
    "                          \"parent_job_id\":\"xxu8-5xhs-vgin-jn0o\",\n",
    "                          \"memory\":4,\n",
    "                          \"cpu\":2,\n",
    "                          \"script\":\"data_ingest_job.py\", \n",
    "                          \"kernel\":\"python3\"}, \"qqbn-sekc-qwme-4kyg\")"
   ]
  },
  {
   "cell_type": "code",
   "execution_count": 13,
   "id": "0aba529f",
   "metadata": {},
   "outputs": [
    {
     "data": {
      "text/plain": [
       "{'arguments': '',\n",
       " 'cpu': 2.0,\n",
       " 'created_at': datetime.datetime(2021, 7, 12, 20, 24, 41, 864607, tzinfo=tzlocal()),\n",
       " 'environment': 'null',\n",
       " 'finished_at': datetime.datetime(1, 1, 1, 0, 0, tzinfo=tzlocal()),\n",
       " 'id': 'oh72tzmkh6i5duun',\n",
       " 'job_id': 'xxu8-5xhs-vgin-jn0o',\n",
       " 'kernel': 'python3',\n",
       " 'memory': 4.0,\n",
       " 'nvidia_gpu': 0,\n",
       " 'project_id': 'qqbn-sekc-qwme-4kyg',\n",
       " 'running_at': datetime.datetime(1, 1, 1, 0, 0, tzinfo=tzlocal()),\n",
       " 'scheduling_at': datetime.datetime(2021, 7, 12, 20, 24, 41, 864585, tzinfo=tzlocal()),\n",
       " 'starting_at': datetime.datetime(1, 1, 1, 0, 0, tzinfo=tzlocal()),\n",
       " 'status': 'ENGINE_SCHEDULING'}"
      ]
     },
     "execution_count": 13,
     "metadata": {},
     "output_type": "execute_result"
    }
   ],
   "source": [
    "api_instance.create_job_run({\"project_id\":\"qqbn-sekc-qwme-4kyg\",\n",
    "                              \"name\":\"parent_job\",\n",
    "                              \"script\":\"data_ingest_job.py\",\n",
    "                              \"kernel\":\"python3\"}, \"qqbn-sekc-qwme-4kyg\", \"xxu8-5xhs-vgin-jn0o\")"
   ]
  },
  {
   "cell_type": "code",
   "execution_count": null,
   "id": "03ecb5be",
   "metadata": {},
   "outputs": [],
   "source": []
  }
 ],
 "metadata": {
  "kernelspec": {
   "display_name": "Python 3",
   "language": "python",
   "name": "python3"
  },
  "language_info": {
   "codemirror_mode": {
    "name": "ipython",
    "version": 3
   },
   "file_extension": ".py",
   "mimetype": "text/x-python",
   "name": "python",
   "nbconvert_exporter": "python",
   "pygments_lexer": "ipython3",
   "version": "3.6.13"
  }
 },
 "nbformat": 4,
 "nbformat_minor": 5
}
