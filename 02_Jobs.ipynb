{
 "cells": [
  {
   "cell_type": "markdown",
   "id": "romance-medicaid",
   "metadata": {},
   "source": [
    "## Jobs Management Examples"
   ]
  },
  {
   "cell_type": "markdown",
   "id": "antique-spank",
   "metadata": {},
   "source": [
    "#### You can use the API to create, start, stop, schedule jobs, and more"
   ]
  },
  {
   "cell_type": "markdown",
   "id": "2d38a8bc",
   "metadata": {},
   "source": [
    "#### Please make sure to select a legacy engine when you launch a session as some of the API's methods do not work with ML Runtimes yet. "
   ]
  },
  {
   "cell_type": "markdown",
   "id": "21c60f4d",
   "metadata": {},
   "source": [
    "#### You can select Legacy engines by going to \"Project Settings\" -> \"Runtime/Engine\" -> \"Legacy Engine\". The default docker image will be fine."
   ]
  },
  {
   "cell_type": "code",
   "execution_count": 1,
   "id": "upset-binding",
   "metadata": {},
   "outputs": [],
   "source": [
    "import cmlapi\n",
    "import os\n",
    "\n",
    "config = cmlapi.Configuration()\n",
    "config.host = os.environ[\"PROJECT_HOST\"]\n",
    "client = cmlapi.ApiClient(config)\n",
    "client.set_default_header(\"authorization\", \"Bearer \"+os.environ[\"API_KEY\"])\n",
    "api_instance = cmlapi.CMLServiceApi(client)"
   ]
  },
  {
   "cell_type": "markdown",
   "id": "f25c2587",
   "metadata": {},
   "source": [
    "#### You can create a new job as below. The schedule value follows the cron format. For example, to execute the job every Monday at 1 PM UTC, the schedule would be \"0 13 * * 1\" without quotes. "
   ]
  },
  {
   "cell_type": "code",
   "execution_count": 7,
   "id": "preliminary-southwest",
   "metadata": {},
   "outputs": [
    {
     "data": {
      "text/plain": [
       "{'arguments': '',\n",
       " 'cpu': 2.0,\n",
       " 'created_at': datetime.datetime(2021, 7, 12, 17, 52, 50, 52617, tzinfo=tzlocal()),\n",
       " 'creator': {'email': 'pauldefusco@cloudera.com',\n",
       "             'id': '1',\n",
       "             'name': 'Paul de Fusco',\n",
       "             'username': 'pauldefusco'},\n",
       " 'engine_image_id': '15',\n",
       " 'english_schedule': '0 13 * * 1',\n",
       " 'environment': '',\n",
       " 'id': 'fg3o-jqnt-r7f5-gnq3',\n",
       " 'kernel': 'python3',\n",
       " 'memory': 4.0,\n",
       " 'name': 'my_scheduled_job',\n",
       " 'nvidia_gpu': '0',\n",
       " 'parent_id': '',\n",
       " 'paused': False,\n",
       " 'schedule': '0 13 * * 1',\n",
       " 'script': 'data_ingest_job.py',\n",
       " 'share_token': '',\n",
       " 'timeout': '0',\n",
       " 'timeout_kill': False,\n",
       " 'timezone': 'America/Los_Angeles',\n",
       " 'type': 'cron',\n",
       " 'updated_at': datetime.datetime(2021, 7, 12, 17, 52, 50, 52666, tzinfo=tzlocal())}"
      ]
     },
     "execution_count": 7,
     "metadata": {},
     "output_type": "execute_result"
    }
   ],
   "source": [
    "api_instance.create_job({\"project_id\":\"qqbn-sekc-qwme-4kyg\",\n",
    "                          \"name\":\"my_scheduled_job\",\n",
    "                          \"schedule\":\"0 13 * * 1\",\n",
    "                          \"memory\":4,\n",
    "                          \"cpu\":2,\n",
    "                          \"script\":\"data_ingest_job.py\", \n",
    "                          \"kernel\":\"python3\"}, \"qqbn-sekc-qwme-4kyg\")"
   ]
  },
  {
   "cell_type": "markdown",
   "id": "ca454f70",
   "metadata": {},
   "source": [
    "#### Alternatively, you can create a job and then issue its execution with a second command."
   ]
  },
  {
   "cell_type": "code",
   "execution_count": 8,
   "id": "9becde03",
   "metadata": {},
   "outputs": [
    {
     "data": {
      "text/plain": [
       "{'arguments': '',\n",
       " 'cpu': 2.0,\n",
       " 'created_at': datetime.datetime(2021, 7, 12, 17, 55, 28, 37933, tzinfo=tzlocal()),\n",
       " 'creator': {'email': 'pauldefusco@cloudera.com',\n",
       "             'id': '1',\n",
       "             'name': 'Paul de Fusco',\n",
       "             'username': 'pauldefusco'},\n",
       " 'engine_image_id': '15',\n",
       " 'english_schedule': '',\n",
       " 'environment': '',\n",
       " 'id': 't3lk-6ten-jywl-tsyc',\n",
       " 'kernel': 'python3',\n",
       " 'memory': 4.0,\n",
       " 'name': 'my_unscheduled_job',\n",
       " 'nvidia_gpu': '0',\n",
       " 'parent_id': '',\n",
       " 'paused': False,\n",
       " 'schedule': '',\n",
       " 'script': 'data_ingest_job.py',\n",
       " 'share_token': '',\n",
       " 'timeout': '0',\n",
       " 'timeout_kill': False,\n",
       " 'timezone': 'America/Los_Angeles',\n",
       " 'type': 'manual',\n",
       " 'updated_at': datetime.datetime(2021, 7, 12, 17, 55, 28, 37985, tzinfo=tzlocal())}"
      ]
     },
     "execution_count": 8,
     "metadata": {},
     "output_type": "execute_result"
    }
   ],
   "source": [
    "api_instance.create_job({\"project_id\":\"qqbn-sekc-qwme-4kyg\",\n",
    "                          \"name\":\"my_unscheduled_job\",\n",
    "                          #\"schedule\":\"0 13 * * 1\",\n",
    "                          \"memory\":4,\n",
    "                          \"cpu\":2,\n",
    "                          \"script\":\"data_ingest_job.py\", \n",
    "                          \"kernel\":\"python3\"}, \"qqbn-sekc-qwme-4kyg\")"
   ]
  },
  {
   "cell_type": "code",
   "execution_count": 9,
   "id": "7ee80ac9",
   "metadata": {},
   "outputs": [],
   "source": [
    "project_identifier=\"qqbn-sekc-qwme-4kyg\"\n",
    "name=\"my_unscheduled_job\""
   ]
  },
  {
   "cell_type": "code",
   "execution_count": 12,
   "id": "4bc43b55",
   "metadata": {},
   "outputs": [
    {
     "ename": "TypeError",
     "evalue": "create_job_run() missing 2 required positional arguments: 'body' and 'job_id'",
     "output_type": "error",
     "traceback": [
      "\u001b[0;31m---------------------------------------------------------------------------\u001b[0m",
      "\u001b[0;31mTypeError\u001b[0m                                 Traceback (most recent call last)",
      "\u001b[0;32m<ipython-input-12-5be00fe9a64a>\u001b[0m in \u001b[0;36m<module>\u001b[0;34m()\u001b[0m\n\u001b[1;32m      2\u001b[0m                                       \u001b[0mname\u001b[0m\u001b[0;34m=\u001b[0m\u001b[0mname\u001b[0m\u001b[0;34m,\u001b[0m\u001b[0;34m\u001b[0m\u001b[0;34m\u001b[0m\u001b[0m\n\u001b[1;32m      3\u001b[0m                                       \u001b[0mscript\u001b[0m\u001b[0;34m=\u001b[0m\u001b[0;34m\"data_ingest_job.py\"\u001b[0m\u001b[0;34m,\u001b[0m\u001b[0;34m\u001b[0m\u001b[0;34m\u001b[0m\u001b[0m\n\u001b[0;32m----> 4\u001b[0;31m                                       kernel=\"python3\")\n\u001b[0m",
      "\u001b[0;31mTypeError\u001b[0m: create_job_run() missing 2 required positional arguments: 'body' and 'job_id'"
     ]
    }
   ],
   "source": [
    "api_instance.create_job_run(project_id=project_identifier,\n",
    "                              name=name,\n",
    "                              script=\"data_ingest_job.py\",\n",
    "                              kernel=\"python3\")"
   ]
  },
  {
   "cell_type": "code",
   "execution_count": null,
   "id": "bff97a8c",
   "metadata": {},
   "outputs": [],
   "source": [
    "api_instance.create_job_run(body=)"
   ]
  },
  {
   "cell_type": "code",
   "execution_count": null,
   "id": "30ee7f53",
   "metadata": {},
   "outputs": [],
   "source": [
    "project_identifier=\"qqbn-sekc-qwme-4kyg\"\n",
    "name=\"test job name\"\n",
    "job_req = cmlapi.CreateJobRequest(project_id=project_identifier,\n",
    "                                      name=name,\n",
    "                                      script=\"analysis.py\",\n",
    "                                      kernel=\"python3\")\n",
    "api_instance.create_job(job_req, job_req.project_id)"
   ]
  },
  {
   "cell_type": "code",
   "execution_count": null,
   "id": "71c7f4aa",
   "metadata": {},
   "outputs": [],
   "source": []
  },
  {
   "cell_type": "code",
   "execution_count": null,
   "id": "e34f0e10",
   "metadata": {},
   "outputs": [],
   "source": []
  }
 ],
 "metadata": {
  "kernelspec": {
   "display_name": "Python 3",
   "language": "python",
   "name": "python3"
  },
  "language_info": {
   "codemirror_mode": {
    "name": "ipython",
    "version": 3
   },
   "file_extension": ".py",
   "mimetype": "text/x-python",
   "name": "python",
   "nbconvert_exporter": "python",
   "pygments_lexer": "ipython3",
   "version": "3.6.13"
  }
 },
 "nbformat": 4,
 "nbformat_minor": 5
}
