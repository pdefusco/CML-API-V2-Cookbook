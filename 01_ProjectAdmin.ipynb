{
 "cells": [
  {
   "cell_type": "markdown",
   "id": "attractive-presence",
   "metadata": {},
   "source": [
    "## CML Project Administration Examples"
   ]
  },
  {
   "cell_type": "markdown",
   "id": "dated-plane",
   "metadata": {},
   "source": [
    "#### You can use the API to manage your CML projects"
   ]
  },
  {
   "cell_type": "code",
   "execution_count": 1,
   "id": "nuclear-apartment",
   "metadata": {},
   "outputs": [],
   "source": [
    "import cmlapi\n",
    "import os\n",
    "config = cmlapi.Configuration()"
   ]
  },
  {
   "cell_type": "code",
   "execution_count": 2,
   "id": "alone-storage",
   "metadata": {},
   "outputs": [],
   "source": [
    "config.host = os.environ[\"PROJECT_HOST\"]"
   ]
  },
  {
   "cell_type": "code",
   "execution_count": 3,
   "id": "resident-tennis",
   "metadata": {},
   "outputs": [],
   "source": [
    "client = cmlapi.ApiClient(config)\n",
    "client.set_default_header(\"authorization\", \"Bearer \"+os.environ[\"API_KEY\"])\n",
    "api_instance = cmlapi.CMLServiceApi(client)"
   ]
  },
  {
   "cell_type": "markdown",
   "id": "meaning-sample",
   "metadata": {},
   "source": [
    "#### You can see all projects contained in the CML Workspace"
   ]
  },
  {
   "cell_type": "code",
   "execution_count": 4,
   "id": "organizational-drunk",
   "metadata": {},
   "outputs": [],
   "source": [
    "projects = api_instance.list_projects()"
   ]
  },
  {
   "cell_type": "code",
   "execution_count": 5,
   "id": "functioning-circuit",
   "metadata": {},
   "outputs": [
    {
     "data": {
      "text/plain": [
       "{'next_page_token': '',\n",
       " 'projects': [{'created_at': datetime.datetime(2021, 7, 10, 0, 12, 13, 355200, tzinfo=tzlocal()),\n",
       "               'creation_status': 'success',\n",
       "               'creator': {'email': 'pauldefusco@cloudera.com',\n",
       "                           'id': '1',\n",
       "                           'name': 'Paul de Fusco',\n",
       "                           'username': 'pauldefusco'},\n",
       "               'default_project_engine_type': 'ml_runtime',\n",
       "               'description': '',\n",
       "               'full_name': 'test',\n",
       "               'id': 'llgb-lqu2-7ivf-is2r',\n",
       "               'name': 'test',\n",
       "               'owner': {'email': 'pauldefusco@cloudera.com',\n",
       "                         'id': '1',\n",
       "                         'name': 'Paul de Fusco',\n",
       "                         'username': 'pauldefusco'},\n",
       "               'project_visibility': 'public',\n",
       "               'updated_at': datetime.datetime(2021, 7, 18, 20, 32, 3, 354805, tzinfo=tzlocal()),\n",
       "               'user_updated_at': ''},\n",
       "              {'created_at': datetime.datetime(2021, 7, 11, 17, 15, 21, 863715, tzinfo=tzlocal()),\n",
       "               'creation_status': 'success',\n",
       "               'creator': {'email': 'pauldefusco@cloudera.com',\n",
       "                           'id': '1',\n",
       "                           'name': 'Paul de Fusco',\n",
       "                           'username': 'pauldefusco'},\n",
       "               'default_project_engine_type': 'legacy_engine',\n",
       "               'description': '',\n",
       "               'full_name': 'api-v2-demo',\n",
       "               'id': 'qqbn-sekc-qwme-4kyg',\n",
       "               'name': 'API V2 Demo',\n",
       "               'owner': {'email': 'pauldefusco@cloudera.com',\n",
       "                         'id': '1',\n",
       "                         'name': 'Paul de Fusco',\n",
       "                         'username': 'pauldefusco'},\n",
       "               'project_visibility': 'public',\n",
       "               'updated_at': datetime.datetime(2021, 7, 18, 20, 41, 54, 411763, tzinfo=tzlocal()),\n",
       "               'user_updated_at': ''}]}"
      ]
     },
     "execution_count": 5,
     "metadata": {},
     "output_type": "execute_result"
    }
   ],
   "source": [
    "projects"
   ]
  },
  {
   "cell_type": "markdown",
   "id": "integral-doctrine",
   "metadata": {},
   "source": [
    "#### The projects object is not a Python dictionary but you can transform it into one so you can extract all the info you need"
   ]
  },
  {
   "cell_type": "code",
   "execution_count": 6,
   "id": "ceramic-madness",
   "metadata": {},
   "outputs": [
    {
     "data": {
      "text/plain": [
       "cmlapi.models.list_projects_response.ListProjectsResponse"
      ]
     },
     "execution_count": 6,
     "metadata": {},
     "output_type": "execute_result"
    }
   ],
   "source": [
    "type(projects)"
   ]
  },
  {
   "cell_type": "code",
   "execution_count": 7,
   "id": "broke-cardiff",
   "metadata": {},
   "outputs": [],
   "source": [
    "proj_dict = projects.to_dict()"
   ]
  },
  {
   "cell_type": "code",
   "execution_count": 8,
   "id": "commercial-vitamin",
   "metadata": {},
   "outputs": [
    {
     "name": "stdout",
     "output_type": "stream",
     "text": [
      "Number of Projects Created\n"
     ]
    },
    {
     "data": {
      "text/plain": [
       "2"
      ]
     },
     "execution_count": 8,
     "metadata": {},
     "output_type": "execute_result"
    }
   ],
   "source": [
    "print(\"Number of Projects Created\")\n",
    "len(proj_dict[\"projects\"])"
   ]
  },
  {
   "cell_type": "markdown",
   "id": "former-commitment",
   "metadata": {},
   "source": [
    "#### Each project contains information about project creation, author, etc."
   ]
  },
  {
   "cell_type": "code",
   "execution_count": 9,
   "id": "medieval-acrylic",
   "metadata": {},
   "outputs": [
    {
     "data": {
      "text/plain": [
       "{'id': 'llgb-lqu2-7ivf-is2r',\n",
       " 'name': 'test',\n",
       " 'full_name': 'test',\n",
       " 'owner': {'id': '1',\n",
       "  'username': 'pauldefusco',\n",
       "  'name': 'Paul de Fusco',\n",
       "  'email': 'pauldefusco@cloudera.com'},\n",
       " 'creator': {'id': '1',\n",
       "  'username': 'pauldefusco',\n",
       "  'name': 'Paul de Fusco',\n",
       "  'email': 'pauldefusco@cloudera.com'},\n",
       " 'description': '',\n",
       " 'project_visibility': 'public',\n",
       " 'default_project_engine_type': 'ml_runtime',\n",
       " 'created_at': datetime.datetime(2021, 7, 10, 0, 12, 13, 355200, tzinfo=tzlocal()),\n",
       " 'updated_at': datetime.datetime(2021, 7, 10, 0, 33, 43, 517504, tzinfo=tzlocal()),\n",
       " 'user_updated_at': '',\n",
       " 'creation_status': 'success'}"
      ]
     },
     "execution_count": 9,
     "metadata": {},
     "output_type": "execute_result"
    }
   ],
   "source": [
    "proj_dict[\"projects\"][0]"
   ]
  },
  {
   "cell_type": "markdown",
   "id": "returning-application",
   "metadata": {},
   "source": [
    "#### You can consolidate each project's info into a single dataframe and then query it to monitor activity"
   ]
  },
  {
   "cell_type": "code",
   "execution_count": 10,
   "id": "cognitive-business",
   "metadata": {},
   "outputs": [
    {
     "name": "stdout",
     "output_type": "stream",
     "text": [
      "Requirement already satisfied: pandas in ./.local/lib/python3.6/site-packages (1.1.5)\n",
      "Requirement already satisfied: pytz>=2017.2 in ./.local/lib/python3.6/site-packages (from pandas) (2021.1)\n",
      "Requirement already satisfied: numpy>=1.15.4 in /usr/local/lib/python3.6/site-packages (from pandas) (1.19.4)\n",
      "Requirement already satisfied: python-dateutil>=2.7.3 in /usr/local/lib/python3.6/site-packages (from pandas) (2.8.1)\n",
      "Requirement already satisfied: six>=1.5 in /usr/local/lib/python3.6/site-packages (from python-dateutil>=2.7.3->pandas) (1.15.0)\n",
      "\u001b[33mWARNING: You are using pip version 21.0.1; however, version 21.1.3 is available.\n",
      "You should consider upgrading via the '/usr/local/bin/python3.6 -m pip install --upgrade pip' command.\u001b[0m\n"
     ]
    },
    {
     "data": {
      "text/html": [
       "<div>\n",
       "<style scoped>\n",
       "    .dataframe tbody tr th:only-of-type {\n",
       "        vertical-align: middle;\n",
       "    }\n",
       "\n",
       "    .dataframe tbody tr th {\n",
       "        vertical-align: top;\n",
       "    }\n",
       "\n",
       "    .dataframe thead th {\n",
       "        text-align: right;\n",
       "    }\n",
       "</style>\n",
       "<table border=\"1\" class=\"dataframe\">\n",
       "  <thead>\n",
       "    <tr style=\"text-align: right;\">\n",
       "      <th></th>\n",
       "      <th>id</th>\n",
       "      <th>name</th>\n",
       "      <th>full_name</th>\n",
       "      <th>owner</th>\n",
       "      <th>creator</th>\n",
       "      <th>description</th>\n",
       "      <th>project_visibility</th>\n",
       "      <th>default_project_engine_type</th>\n",
       "      <th>created_at</th>\n",
       "      <th>updated_at</th>\n",
       "      <th>user_updated_at</th>\n",
       "      <th>creation_status</th>\n",
       "    </tr>\n",
       "  </thead>\n",
       "  <tbody>\n",
       "    <tr>\n",
       "      <th>0</th>\n",
       "      <td>llgb-lqu2-7ivf-is2r</td>\n",
       "      <td>test</td>\n",
       "      <td>test</td>\n",
       "      <td>{'id': '1', 'username': 'pauldefusco', 'name':...</td>\n",
       "      <td>{'id': '1', 'username': 'pauldefusco', 'name':...</td>\n",
       "      <td></td>\n",
       "      <td>public</td>\n",
       "      <td>ml_runtime</td>\n",
       "      <td>2021-07-10 00:12:13.355200+00:00</td>\n",
       "      <td>2021-07-10 00:33:43.517504+00:00</td>\n",
       "      <td></td>\n",
       "      <td>success</td>\n",
       "    </tr>\n",
       "    <tr>\n",
       "      <th>1</th>\n",
       "      <td>qqbn-sekc-qwme-4kyg</td>\n",
       "      <td>API V2 Demo</td>\n",
       "      <td>api-v2-demo</td>\n",
       "      <td>{'id': '1', 'username': 'pauldefusco', 'name':...</td>\n",
       "      <td>{'id': '1', 'username': 'pauldefusco', 'name':...</td>\n",
       "      <td></td>\n",
       "      <td>public</td>\n",
       "      <td>ml_runtime</td>\n",
       "      <td>2021-07-11 17:15:21.863715+00:00</td>\n",
       "      <td>2021-07-12 16:23:37.302979+00:00</td>\n",
       "      <td></td>\n",
       "      <td>success</td>\n",
       "    </tr>\n",
       "  </tbody>\n",
       "</table>\n",
       "</div>"
      ],
      "text/plain": [
       "                    id         name    full_name  \\\n",
       "0  llgb-lqu2-7ivf-is2r         test         test   \n",
       "1  qqbn-sekc-qwme-4kyg  API V2 Demo  api-v2-demo   \n",
       "\n",
       "                                               owner  \\\n",
       "0  {'id': '1', 'username': 'pauldefusco', 'name':...   \n",
       "1  {'id': '1', 'username': 'pauldefusco', 'name':...   \n",
       "\n",
       "                                             creator description  \\\n",
       "0  {'id': '1', 'username': 'pauldefusco', 'name':...               \n",
       "1  {'id': '1', 'username': 'pauldefusco', 'name':...               \n",
       "\n",
       "  project_visibility default_project_engine_type  \\\n",
       "0             public                  ml_runtime   \n",
       "1             public                  ml_runtime   \n",
       "\n",
       "                        created_at                       updated_at  \\\n",
       "0 2021-07-10 00:12:13.355200+00:00 2021-07-10 00:33:43.517504+00:00   \n",
       "1 2021-07-11 17:15:21.863715+00:00 2021-07-12 16:23:37.302979+00:00   \n",
       "\n",
       "  user_updated_at creation_status  \n",
       "0                         success  \n",
       "1                         success  "
      ]
     },
     "execution_count": 10,
     "metadata": {},
     "output_type": "execute_result"
    }
   ],
   "source": [
    "!pip3 install pandas\n",
    "import pandas as pd\n",
    "pd.DataFrame(proj_dict[\"projects\"])"
   ]
  },
  {
   "cell_type": "code",
   "execution_count": 11,
   "id": "likely-details",
   "metadata": {},
   "outputs": [],
   "source": [
    "wspace_projs = pd.DataFrame(proj_dict[\"projects\"])"
   ]
  },
  {
   "cell_type": "code",
   "execution_count": 12,
   "id": "national-rendering",
   "metadata": {},
   "outputs": [
    {
     "data": {
      "text/html": [
       "<div>\n",
       "<style scoped>\n",
       "    .dataframe tbody tr th:only-of-type {\n",
       "        vertical-align: middle;\n",
       "    }\n",
       "\n",
       "    .dataframe tbody tr th {\n",
       "        vertical-align: top;\n",
       "    }\n",
       "\n",
       "    .dataframe thead th {\n",
       "        text-align: right;\n",
       "    }\n",
       "</style>\n",
       "<table border=\"1\" class=\"dataframe\">\n",
       "  <thead>\n",
       "    <tr style=\"text-align: right;\">\n",
       "      <th></th>\n",
       "      <th>full_name</th>\n",
       "      <th>creator</th>\n",
       "      <th>updated_at</th>\n",
       "    </tr>\n",
       "  </thead>\n",
       "  <tbody>\n",
       "    <tr>\n",
       "      <th>0</th>\n",
       "      <td>test</td>\n",
       "      <td>{'id': '1', 'username': 'pauldefusco', 'name':...</td>\n",
       "      <td>2021-07-10 00:33:43.517504+00:00</td>\n",
       "    </tr>\n",
       "    <tr>\n",
       "      <th>1</th>\n",
       "      <td>api-v2-demo</td>\n",
       "      <td>{'id': '1', 'username': 'pauldefusco', 'name':...</td>\n",
       "      <td>2021-07-12 16:23:37.302979+00:00</td>\n",
       "    </tr>\n",
       "  </tbody>\n",
       "</table>\n",
       "</div>"
      ],
      "text/plain": [
       "     full_name                                            creator  \\\n",
       "0         test  {'id': '1', 'username': 'pauldefusco', 'name':...   \n",
       "1  api-v2-demo  {'id': '1', 'username': 'pauldefusco', 'name':...   \n",
       "\n",
       "                        updated_at  \n",
       "0 2021-07-10 00:33:43.517504+00:00  \n",
       "1 2021-07-12 16:23:37.302979+00:00  "
      ]
     },
     "execution_count": 12,
     "metadata": {},
     "output_type": "execute_result"
    }
   ],
   "source": [
    "wspace_projs[[\"full_name\", \"creator\", \"updated_at\"]]"
   ]
  },
  {
   "cell_type": "markdown",
   "id": "quarterly-shoot",
   "metadata": {},
   "source": [
    "#### For example, you can query the most recent project"
   ]
  },
  {
   "cell_type": "code",
   "execution_count": 50,
   "id": "artificial-grocery",
   "metadata": {},
   "outputs": [],
   "source": [
    "from datetime import datetime\n",
    "\n",
    "now = datetime.now()"
   ]
  },
  {
   "cell_type": "code",
   "execution_count": 58,
   "id": "latin-latter",
   "metadata": {},
   "outputs": [
    {
     "data": {
      "text/html": [
       "<div>\n",
       "<style scoped>\n",
       "    .dataframe tbody tr th:only-of-type {\n",
       "        vertical-align: middle;\n",
       "    }\n",
       "\n",
       "    .dataframe tbody tr th {\n",
       "        vertical-align: top;\n",
       "    }\n",
       "\n",
       "    .dataframe thead th {\n",
       "        text-align: right;\n",
       "    }\n",
       "</style>\n",
       "<table border=\"1\" class=\"dataframe\">\n",
       "  <thead>\n",
       "    <tr style=\"text-align: right;\">\n",
       "      <th></th>\n",
       "      <th>id</th>\n",
       "      <th>name</th>\n",
       "      <th>full_name</th>\n",
       "      <th>owner</th>\n",
       "      <th>creator</th>\n",
       "      <th>description</th>\n",
       "      <th>project_visibility</th>\n",
       "      <th>default_project_engine_type</th>\n",
       "      <th>created_at</th>\n",
       "      <th>updated_at</th>\n",
       "      <th>user_updated_at</th>\n",
       "      <th>creation_status</th>\n",
       "    </tr>\n",
       "  </thead>\n",
       "  <tbody>\n",
       "    <tr>\n",
       "      <th>0</th>\n",
       "      <td>llgb-lqu2-7ivf-is2r</td>\n",
       "      <td>test</td>\n",
       "      <td>test</td>\n",
       "      <td>{'id': '1', 'username': 'pauldefusco', 'name':...</td>\n",
       "      <td>{'id': '1', 'username': 'pauldefusco', 'name':...</td>\n",
       "      <td></td>\n",
       "      <td>public</td>\n",
       "      <td>ml_runtime</td>\n",
       "      <td>2021-07-10 00:12:13.355200+00:00</td>\n",
       "      <td>2021-07-10 00:33:43.517504+00:00</td>\n",
       "      <td></td>\n",
       "      <td>success</td>\n",
       "    </tr>\n",
       "  </tbody>\n",
       "</table>\n",
       "</div>"
      ],
      "text/plain": [
       "                    id  name full_name  \\\n",
       "0  llgb-lqu2-7ivf-is2r  test      test   \n",
       "\n",
       "                                               owner  \\\n",
       "0  {'id': '1', 'username': 'pauldefusco', 'name':...   \n",
       "\n",
       "                                             creator description  \\\n",
       "0  {'id': '1', 'username': 'pauldefusco', 'name':...               \n",
       "\n",
       "  project_visibility default_project_engine_type  \\\n",
       "0             public                  ml_runtime   \n",
       "\n",
       "                        created_at                       updated_at  \\\n",
       "0 2021-07-10 00:12:13.355200+00:00 2021-07-10 00:33:43.517504+00:00   \n",
       "\n",
       "  user_updated_at creation_status  \n",
       "0                         success  "
      ]
     },
     "execution_count": 58,
     "metadata": {},
     "output_type": "execute_result"
    }
   ],
   "source": [
    "wspace_projs[wspace_projs[\"updated_at\"] == wspace_projs[\"updated_at\"].min()]"
   ]
  },
  {
   "cell_type": "markdown",
   "id": "assigned-browse",
   "metadata": {},
   "source": [
    "#### Or you can extract more info about the author"
   ]
  },
  {
   "cell_type": "code",
   "execution_count": 70,
   "id": "solar-herald",
   "metadata": {},
   "outputs": [
    {
     "data": {
      "text/plain": [
       "{'id': '1',\n",
       " 'username': 'pauldefusco',\n",
       " 'name': 'Paul de Fusco',\n",
       " 'email': 'pauldefusco@cloudera.com'}"
      ]
     },
     "execution_count": 70,
     "metadata": {},
     "output_type": "execute_result"
    }
   ],
   "source": [
    "wspace_projs[\"owner\"][0]"
   ]
  },
  {
   "cell_type": "markdown",
   "id": "ignored-ending",
   "metadata": {},
   "source": [
    "#### And put it back into the original dataframe"
   ]
  },
  {
   "cell_type": "code",
   "execution_count": 79,
   "id": "tired-vaccine",
   "metadata": {},
   "outputs": [
    {
     "data": {
      "text/html": [
       "<div>\n",
       "<style scoped>\n",
       "    .dataframe tbody tr th:only-of-type {\n",
       "        vertical-align: middle;\n",
       "    }\n",
       "\n",
       "    .dataframe tbody tr th {\n",
       "        vertical-align: top;\n",
       "    }\n",
       "\n",
       "    .dataframe thead th {\n",
       "        text-align: right;\n",
       "    }\n",
       "</style>\n",
       "<table border=\"1\" class=\"dataframe\">\n",
       "  <thead>\n",
       "    <tr style=\"text-align: right;\">\n",
       "      <th></th>\n",
       "      <th>id</th>\n",
       "      <th>name</th>\n",
       "      <th>full_name</th>\n",
       "      <th>description</th>\n",
       "      <th>project_visibility</th>\n",
       "      <th>default_project_engine_type</th>\n",
       "      <th>created_at</th>\n",
       "      <th>updated_at</th>\n",
       "      <th>user_updated_at</th>\n",
       "      <th>creation_status</th>\n",
       "      <th>id</th>\n",
       "      <th>username</th>\n",
       "      <th>name</th>\n",
       "      <th>email</th>\n",
       "    </tr>\n",
       "  </thead>\n",
       "  <tbody>\n",
       "    <tr>\n",
       "      <th>0</th>\n",
       "      <td>llgb-lqu2-7ivf-is2r</td>\n",
       "      <td>test</td>\n",
       "      <td>test</td>\n",
       "      <td></td>\n",
       "      <td>public</td>\n",
       "      <td>ml_runtime</td>\n",
       "      <td>2021-07-10 00:12:13.355200+00:00</td>\n",
       "      <td>2021-07-10 00:33:43.517504+00:00</td>\n",
       "      <td></td>\n",
       "      <td>success</td>\n",
       "      <td>1</td>\n",
       "      <td>pauldefusco</td>\n",
       "      <td>Paul de Fusco</td>\n",
       "      <td>pauldefusco@cloudera.com</td>\n",
       "    </tr>\n",
       "    <tr>\n",
       "      <th>1</th>\n",
       "      <td>qqbn-sekc-qwme-4kyg</td>\n",
       "      <td>API V2 Demo</td>\n",
       "      <td>api-v2-demo</td>\n",
       "      <td></td>\n",
       "      <td>private</td>\n",
       "      <td>ml_runtime</td>\n",
       "      <td>2021-07-11 17:15:21.863715+00:00</td>\n",
       "      <td>2021-07-11 17:20:01.248690+00:00</td>\n",
       "      <td></td>\n",
       "      <td>success</td>\n",
       "      <td>1</td>\n",
       "      <td>pauldefusco</td>\n",
       "      <td>Paul de Fusco</td>\n",
       "      <td>pauldefusco@cloudera.com</td>\n",
       "    </tr>\n",
       "  </tbody>\n",
       "</table>\n",
       "</div>"
      ],
      "text/plain": [
       "                    id         name    full_name description  \\\n",
       "0  llgb-lqu2-7ivf-is2r         test         test               \n",
       "1  qqbn-sekc-qwme-4kyg  API V2 Demo  api-v2-demo               \n",
       "\n",
       "  project_visibility default_project_engine_type  \\\n",
       "0             public                  ml_runtime   \n",
       "1            private                  ml_runtime   \n",
       "\n",
       "                        created_at                       updated_at  \\\n",
       "0 2021-07-10 00:12:13.355200+00:00 2021-07-10 00:33:43.517504+00:00   \n",
       "1 2021-07-11 17:15:21.863715+00:00 2021-07-11 17:20:01.248690+00:00   \n",
       "\n",
       "  user_updated_at creation_status id     username           name  \\\n",
       "0                         success  1  pauldefusco  Paul de Fusco   \n",
       "1                         success  1  pauldefusco  Paul de Fusco   \n",
       "\n",
       "                      email  \n",
       "0  pauldefusco@cloudera.com  \n",
       "1  pauldefusco@cloudera.com  "
      ]
     },
     "execution_count": 79,
     "metadata": {},
     "output_type": "execute_result"
    }
   ],
   "source": [
    "pd.concat([wspace_projs, pd.json_normalize(wspace_projs['owner'])], axis=1).drop([\"owner\", \"creator\"], axis=1)"
   ]
  },
  {
   "cell_type": "code",
   "execution_count": null,
   "id": "attractive-metadata",
   "metadata": {},
   "outputs": [],
   "source": []
  }
 ],
 "metadata": {
  "kernelspec": {
   "display_name": "Python 3",
   "language": "python",
   "name": "python3"
  },
  "language_info": {
   "codemirror_mode": {
    "name": "ipython",
    "version": 3
   },
   "file_extension": ".py",
   "mimetype": "text/x-python",
   "name": "python",
   "nbconvert_exporter": "python",
   "pygments_lexer": "ipython3",
   "version": "3.6.13"
  }
 },
 "nbformat": 4,
 "nbformat_minor": 5
}
